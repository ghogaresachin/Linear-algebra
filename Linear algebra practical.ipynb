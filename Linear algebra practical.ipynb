{
 "cells": [
  {
   "cell_type": "code",
   "execution_count": 35,
   "id": "d6494393",
   "metadata": {},
   "outputs": [
    {
     "name": "stdout",
     "output_type": "stream",
     "text": [
      "D is :  -16\n",
      "D1 is :  -32\n",
      "D2 is :  -48\n",
      "D3 is :  64\n",
      "Value of x is :  2.0\n",
      "Value of y is :  3.0\n",
      "Value of z is :  -4.0\n"
     ]
    }
   ],
   "source": [
    "# 1 Solve the following system of linear equations using cramer's rule\n",
    "def determinantOfMatrix(mat):\n",
    " \n",
    "    ans = (mat[0][0] * (mat[1][1] * mat[2][2] -\n",
    "                        mat[2][1] * mat[1][2]) -\n",
    "           mat[0][1] * (mat[1][0] * mat[2][2] -\n",
    "                        mat[1][2] * mat[2][0]) +\n",
    "           mat[0][2] * (mat[1][0] * mat[2][1] -\n",
    "                        mat[1][1] * mat[2][0]))\n",
    "    return ans\n",
    " \n",
    "# This function finds the solution of system of\n",
    "# linear equations using cramer's rule\n",
    "def findSolution(coeff):\n",
    " \n",
    "    # Matrix d using coeff as given in\n",
    "    # cramer's rule\n",
    "    d = [[coeff[0][0], coeff[0][1], coeff[0][2]],\n",
    "         [coeff[1][0], coeff[1][1], coeff[1][2]],\n",
    "         [coeff[2][0], coeff[2][1], coeff[2][2]]]\n",
    "     \n",
    "    # Matrix d1 using coeff as given in\n",
    "    # cramer's rule\n",
    "    d1 = [[coeff[0][3], coeff[0][1], coeff[0][2]],\n",
    "          [coeff[1][3], coeff[1][1], coeff[1][2]],\n",
    "          [coeff[2][3], coeff[2][1], coeff[2][2]]]\n",
    "     \n",
    "    # Matrix d2 using coeff as given in\n",
    "    # cramer's rule\n",
    "    d2 = [[coeff[0][0], coeff[0][3], coeff[0][2]],\n",
    "          [coeff[1][0], coeff[1][3], coeff[1][2]],\n",
    "          [coeff[2][0], coeff[2][3], coeff[2][2]]]\n",
    "     \n",
    "    # Matrix d3 using coeff as given in\n",
    "    # cramer's rule\n",
    "    d3 = [[coeff[0][0], coeff[0][1], coeff[0][3]],\n",
    "          [coeff[1][0], coeff[1][1], coeff[1][3]],\n",
    "          [coeff[2][0], coeff[2][1], coeff[2][3]]]\n",
    " \n",
    "    # Calculating Determinant of Matrices\n",
    "    # d, d1, d2, d3\n",
    "    D = determinantOfMatrix(d)\n",
    "    D1 = determinantOfMatrix(d1)\n",
    "    D2 = determinantOfMatrix(d2)\n",
    "    D3 = determinantOfMatrix(d3)\n",
    "     \n",
    "    print(\"D is : \", D)\n",
    "    print(\"D1 is : \", D1)\n",
    "    print(\"D2 is : \", D2)\n",
    "    print(\"D3 is : \", D3)\n",
    " \n",
    "    # Case 1\n",
    "    if (D != 0):\n",
    "       \n",
    "        # Coeff have a unique solution.\n",
    "        # Apply Cramer's Rule\n",
    "        x = D1 / D\n",
    "        y = D2 / D\n",
    "         \n",
    "        # calculating z using cramer's rule\n",
    "        z = D3 / D \n",
    "         \n",
    "        print(\"Value of x is : \", x)\n",
    "        print(\"Value of y is : \", y)\n",
    "        print(\"Value of z is : \", z)\n",
    " # Case 2\n",
    "    else:\n",
    "        if (D1 == 0 and D2 == 0 and\n",
    "            D3 == 0):\n",
    "            print(\"Infinite solutions\")\n",
    "        elif (D1 != 0 or D2 != 0 or\n",
    "              D3 != 0):\n",
    "            print(\"No solutions\")\n",
    "            # Driver Code\n",
    "if __name__ == \"__main__\":\n",
    " \n",
    "    # storing coefficients of linear\n",
    "    # equations in coeff matrix\n",
    "    coeff = [[2, -1, 1, -3],\n",
    "             [1, 1, -3, 17],\n",
    "             [5, -2, -4, 20]]\n",
    " \n",
    "    findSolution(coeff)"
   ]
  },
  {
   "cell_type": "code",
   "execution_count": 2,
   "id": "cd424ab4",
   "metadata": {},
   "outputs": [
    {
     "data": {
      "text/plain": [
       "array([ 2., -1., -0.,  1.])"
      ]
     },
     "execution_count": 2,
     "metadata": {},
     "output_type": "execute_result"
    }
   ],
   "source": [
    "import numpy as np\n",
    "A = np.array([[1, 0, 0, 0], [3, 2, 0, 0], [0, 1, -1, 0], [-2, 3, 1, 3]])\n",
    "b = np.array([2, 4, -1, -4])\n",
    "x = np.linalg.solve(A, b)\n",
    "x\n",
    "\n"
   ]
  },
  {
   "cell_type": "code",
   "execution_count": 23,
   "id": "0f124f7c",
   "metadata": {},
   "outputs": [
    {
     "name": "stdout",
     "output_type": "stream",
     "text": [
      "The solution of s.o.e. by CR is:\n",
      "[2, -3, 4, 1, 6]\n"
     ]
    }
   ],
   "source": []
  },
  {
   "cell_type": "code",
   "execution_count": 2,
   "id": "9d8226f7",
   "metadata": {},
   "outputs": [
    {
     "data": {
      "text/plain": [
       "array([[1, 2, 3],\n",
       "       [4, 5, 6],\n",
       "       [7, 8, 9]])"
      ]
     },
     "execution_count": 2,
     "metadata": {},
     "output_type": "execute_result"
    }
   ],
   "source": [
    "M=np.array([[1,2,3],[4,5,6],[7,8,9]])\n",
    "M"
   ]
  },
  {
   "cell_type": "code",
   "execution_count": 5,
   "id": "ca4a2adf",
   "metadata": {},
   "outputs": [
    {
     "name": "stdout",
     "output_type": "stream",
     "text": [
      "Maatrix is square\n"
     ]
    }
   ],
   "source": [
    "m,n=M.shape\n",
    "if m==n:\n",
    "    print('Matrix is square')\n",
    "else:\n",
    "    print('Matrix is not square')"
   ]
  },
  {
   "cell_type": "code",
   "execution_count": 16,
   "id": "7100ec11",
   "metadata": {},
   "outputs": [
    {
     "name": "stdout",
     "output_type": "stream",
     "text": [
      "matrix is idempotent.\n"
     ]
    }
   ],
   "source": [
    "M3=np.array([[2,-2,4],[-1,2,-4],[1,-2,-3]])\n",
    "M4=np.linalg.matrix_power(M3,2)\n",
    "if (M4==M3.T).all():\n",
    "    print(\"matrix is not idempotent.\")\n",
    "else:\n",
    "    print('matrix is idempotent.')"
   ]
  },
  {
   "cell_type": "code",
   "execution_count": 18,
   "id": "3ab53284",
   "metadata": {},
   "outputs": [
    {
     "data": {
      "text/plain": [
       "0.0"
      ]
     },
     "execution_count": 18,
     "metadata": {},
     "output_type": "execute_result"
    }
   ],
   "source": [
    "np.linalg.det(M)"
   ]
  },
  {
   "cell_type": "code",
   "execution_count": 29,
   "id": "8ad71f9a",
   "metadata": {},
   "outputs": [
    {
     "name": "stdout",
     "output_type": "stream",
     "text": [
      "Matrix is orthogonal\n"
     ]
    }
   ],
   "source": [
    "A=np.array([[1,0,0],[0,-1,0],[0,0,-1]])\n",
    "A\n",
    "if np.linalg.det(A)!=0:\n",
    "    if (np.linalg.inv(A)==A.T).all():\n",
    "        print(\"Matrix is orthogonal\")\n",
    "    else :\n",
    "        print(\"Matrix is not orthogonal\")"
   ]
  },
  {
   "cell_type": "code",
   "execution_count": 22,
   "id": "10609ae8",
   "metadata": {},
   "outputs": [],
   "source": [
    "Ev=np.linalg.eigvals(A)\n",
    "Ev\n",
    "if np.all(Ev>0):\n",
    "    print('POsitive Def')\n",
    "elif np.all(Ev>=0):\n",
    "    print('POsitive semi Def')\n",
    "elif np.all(Ev<0):\n",
    "    print('Negative Def')\n",
    "elif np.all(Ev<=0):\n",
    "    print('Negative semi Def')"
   ]
  },
  {
   "cell_type": "code",
   "execution_count": 16,
   "id": "3b007d0c",
   "metadata": {},
   "outputs": [],
   "source": [
    "import numpy as np\n",
    "A=np.array([[2,-1,1],[1,1,-3],[5,-2,-4]])\n",
    "A\n",
    "B=np.array([-3,17,20])\n",
    "B\n",
    "row,col=A.shape\n",
    "x=[0]*col\n",
    "for i in range(col):\n",
    "    temp=A.copy()\n",
    "    temp[:,i]=B\n",
    "    x[i]=np.linalg.det(temp)/np.linalg.det(A)\n",
    "    x"
   ]
  },
  {
   "cell_type": "code",
   "execution_count": 19,
   "id": "64cb3ae3",
   "metadata": {},
   "outputs": [
    {
     "data": {
      "text/plain": [
       "array([9., 1., 5., 1.])"
      ]
     },
     "execution_count": 19,
     "metadata": {},
     "output_type": "execute_result"
    }
   ],
   "source": [
    "P=np.array([[4,1,3,1],[1,4,1,3],[3,1,4,1],[1,3,1,4]])\n",
    "P\n",
    "c=np.linalg.eigvals(P)\n",
    "c\n"
   ]
  }
 ],
 "metadata": {
  "kernelspec": {
   "display_name": "Python 3 (ipykernel)",
   "language": "python",
   "name": "python3"
  },
  "language_info": {
   "codemirror_mode": {
    "name": "ipython",
    "version": 3
   },
   "file_extension": ".py",
   "mimetype": "text/x-python",
   "name": "python",
   "nbconvert_exporter": "python",
   "pygments_lexer": "ipython3",
   "version": "3.10.2"
  }
 },
 "nbformat": 4,
 "nbformat_minor": 5
}
